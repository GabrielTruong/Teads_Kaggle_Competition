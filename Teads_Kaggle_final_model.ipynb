{
 "cells": [
  {
   "cell_type": "markdown",
   "metadata": {},
   "source": [
    "# Teads Kaggle Competition\n",
    "\n",
    "Team: Neipa \n",
    "\n",
    "Member: Gabriel TRUONG, Edouard LACOURT, Maxime RAILLAT, Antoine ROYER-BOURNELLE"
   ]
  },
  {
   "cell_type": "code",
   "execution_count": 1,
   "metadata": {},
   "outputs": [],
   "source": [
    "import numpy as np\n",
    "import pandas as pd\n",
    "import matplotlib.pyplot as plt\n",
    "import seaborn as sns\n",
    "from sklearn.model_selection import train_test_split\n",
    "from sklearn.linear_model import LogisticRegression\n",
    "from sklearn.metrics import f1_score, make_scorer\n",
    "from sklearn.preprocessing import OneHotEncoder\n",
    "from sklearn.preprocessing import LabelEncoder\n",
    "from sklearn.model_selection import cross_val_score\n",
    "from category_encoders import TargetEncoder\n",
    "from sklearn.impute import KNNImputer"
   ]
  },
  {
   "cell_type": "markdown",
   "metadata": {},
   "source": [
    "# Data Collection\n",
    "\n",
    "We get the data from the [EPF 2022 Teads Kaggle competition](https://www.kaggle.com/competitions/epf-montpellier-2022/overview) "
   ]
  },
  {
   "cell_type": "code",
   "execution_count": 2,
   "metadata": {},
   "outputs": [
    {
     "name": "stdout",
     "output_type": "stream",
     "text": [
      "Downloading epf-montpellier-2022.zip to /home/lapbeer/Documents/epf/intro_ML/Kaggle_competition/Teads_First_Kaggle_Competition\n",
      " 96%|████████████████████████████████████▍ | 82.0M/85.4M [00:02<00:00, 36.6MB/s]\n",
      "100%|██████████████████████████████████████| 85.4M/85.4M [00:02<00:00, 31.1MB/s]\n",
      "Archive:  epf-montpellier-2022.zip\n",
      "  inflating: test.csv                \n",
      "  inflating: testSubmissionFile.csv  \n",
      "  inflating: train.csv               \n"
     ]
    }
   ],
   "source": [
    "!kaggle competitions download -c epf-montpellier-2022\n",
    "!unzip epf-montpellier-2022.zip\n",
    "!rm epf-montpellier-2022.zip"
   ]
  },
  {
   "cell_type": "code",
   "execution_count": 3,
   "metadata": {},
   "outputs": [
    {
     "data": {
      "text/html": [
       "<div>\n",
       "<style scoped>\n",
       "    .dataframe tbody tr th:only-of-type {\n",
       "        vertical-align: middle;\n",
       "    }\n",
       "\n",
       "    .dataframe tbody tr th {\n",
       "        vertical-align: top;\n",
       "    }\n",
       "\n",
       "    .dataframe thead th {\n",
       "        text-align: right;\n",
       "    }\n",
       "</style>\n",
       "<table border=\"1\" class=\"dataframe\">\n",
       "  <thead>\n",
       "    <tr style=\"text-align: right;\">\n",
       "      <th></th>\n",
       "      <th>auctionId</th>\n",
       "      <th>timeStamp</th>\n",
       "      <th>placementId</th>\n",
       "      <th>websiteId</th>\n",
       "      <th>hashedRefererDeepThree</th>\n",
       "      <th>country</th>\n",
       "      <th>opeartingSystem</th>\n",
       "      <th>browser</th>\n",
       "      <th>browserVersion</th>\n",
       "      <th>device</th>\n",
       "      <th>environmentType</th>\n",
       "      <th>integrationType</th>\n",
       "      <th>articleSafenessCategorization</th>\n",
       "      <th>isSold</th>\n",
       "    </tr>\n",
       "  </thead>\n",
       "  <tbody>\n",
       "    <tr>\n",
       "      <th>0</th>\n",
       "      <td>001ed16b-dd08-4599-b8ef-4f56a373c454_6e5f1087-...</td>\n",
       "      <td>1603815466</td>\n",
       "      <td>120706</td>\n",
       "      <td>68203</td>\n",
       "      <td>1ae7c2d3c28b711c072d8e2eb3869fa59090669bdc153e...</td>\n",
       "      <td>US</td>\n",
       "      <td>Windows</td>\n",
       "      <td>Chrome</td>\n",
       "      <td>86_0</td>\n",
       "      <td>PC</td>\n",
       "      <td>js-web</td>\n",
       "      <td>2</td>\n",
       "      <td>safe</td>\n",
       "      <td>False</td>\n",
       "    </tr>\n",
       "    <tr>\n",
       "      <th>1</th>\n",
       "      <td>0024b36a-4fb5-4070-88fb-fc0bfb1909ed</td>\n",
       "      <td>1603974586</td>\n",
       "      <td>69454</td>\n",
       "      <td>42543</td>\n",
       "      <td>df1108bf6ae49dbccf5eab60ff9d04a6a09dda60ec7290...</td>\n",
       "      <td>RO</td>\n",
       "      <td>Android</td>\n",
       "      <td>Facebook App</td>\n",
       "      <td>293_0</td>\n",
       "      <td>Phone</td>\n",
       "      <td>js-fbwv</td>\n",
       "      <td>1</td>\n",
       "      <td>unsafe</td>\n",
       "      <td>False</td>\n",
       "    </tr>\n",
       "    <tr>\n",
       "      <th>2</th>\n",
       "      <td>003630fa-ad63-4283-be1b-141670132d70_f37c2b23-...</td>\n",
       "      <td>1604229969</td>\n",
       "      <td>100170</td>\n",
       "      <td>57703</td>\n",
       "      <td>cc6957e8aec85a4d920991c53874c5d0780bbfbd469802...</td>\n",
       "      <td>UK</td>\n",
       "      <td>Android</td>\n",
       "      <td>Facebook App</td>\n",
       "      <td>294_0</td>\n",
       "      <td>Phone</td>\n",
       "      <td>js-web</td>\n",
       "      <td>2</td>\n",
       "      <td>safe</td>\n",
       "      <td>True</td>\n",
       "    </tr>\n",
       "    <tr>\n",
       "      <th>3</th>\n",
       "      <td>0048c65a-ce76-43ba-98d2-8e87607468f8</td>\n",
       "      <td>1604156610</td>\n",
       "      <td>100446</td>\n",
       "      <td>57797</td>\n",
       "      <td>7fc0bb7a65d074e003cce786cda2b070f80dd47179c4b9...</td>\n",
       "      <td>ES</td>\n",
       "      <td>Android</td>\n",
       "      <td>Chrome Mobile</td>\n",
       "      <td>86_0</td>\n",
       "      <td>Phone</td>\n",
       "      <td>js-ampsf</td>\n",
       "      <td>1</td>\n",
       "      <td>safe</td>\n",
       "      <td>True</td>\n",
       "    </tr>\n",
       "    <tr>\n",
       "      <th>4</th>\n",
       "      <td>0056b8a7-54f9-4ac8-8d50-f725bf377872</td>\n",
       "      <td>1604004493</td>\n",
       "      <td>119517</td>\n",
       "      <td>67613</td>\n",
       "      <td>3a6552ccbf66ad166aa9005c3e08f70716abd676cfd87b...</td>\n",
       "      <td>FR</td>\n",
       "      <td>Android</td>\n",
       "      <td>Facebook App</td>\n",
       "      <td>293_0</td>\n",
       "      <td>Phone</td>\n",
       "      <td>js-fbwv</td>\n",
       "      <td>1</td>\n",
       "      <td>unsafe</td>\n",
       "      <td>False</td>\n",
       "    </tr>\n",
       "  </tbody>\n",
       "</table>\n",
       "</div>"
      ],
      "text/plain": [
       "                                           auctionId   timeStamp  placementId  \\\n",
       "0  001ed16b-dd08-4599-b8ef-4f56a373c454_6e5f1087-...  1603815466       120706   \n",
       "1               0024b36a-4fb5-4070-88fb-fc0bfb1909ed  1603974586        69454   \n",
       "2  003630fa-ad63-4283-be1b-141670132d70_f37c2b23-...  1604229969       100170   \n",
       "3               0048c65a-ce76-43ba-98d2-8e87607468f8  1604156610       100446   \n",
       "4               0056b8a7-54f9-4ac8-8d50-f725bf377872  1604004493       119517   \n",
       "\n",
       "   websiteId                             hashedRefererDeepThree country  \\\n",
       "0      68203  1ae7c2d3c28b711c072d8e2eb3869fa59090669bdc153e...      US   \n",
       "1      42543  df1108bf6ae49dbccf5eab60ff9d04a6a09dda60ec7290...      RO   \n",
       "2      57703  cc6957e8aec85a4d920991c53874c5d0780bbfbd469802...      UK   \n",
       "3      57797  7fc0bb7a65d074e003cce786cda2b070f80dd47179c4b9...      ES   \n",
       "4      67613  3a6552ccbf66ad166aa9005c3e08f70716abd676cfd87b...      FR   \n",
       "\n",
       "  opeartingSystem        browser browserVersion device environmentType  \\\n",
       "0         Windows         Chrome           86_0     PC          js-web   \n",
       "1         Android   Facebook App          293_0  Phone         js-fbwv   \n",
       "2         Android   Facebook App          294_0  Phone          js-web   \n",
       "3         Android  Chrome Mobile           86_0  Phone        js-ampsf   \n",
       "4         Android   Facebook App          293_0  Phone         js-fbwv   \n",
       "\n",
       "   integrationType articleSafenessCategorization  isSold  \n",
       "0                2                          safe   False  \n",
       "1                1                        unsafe   False  \n",
       "2                2                          safe    True  \n",
       "3                1                          safe    True  \n",
       "4                1                        unsafe   False  "
      ]
     },
     "execution_count": 3,
     "metadata": {},
     "output_type": "execute_result"
    }
   ],
   "source": [
    "data_train = pd.read_csv(\"train.csv\")\n",
    "data_train.head()"
   ]
  },
  {
   "cell_type": "code",
   "execution_count": 4,
   "metadata": {},
   "outputs": [
    {
     "data": {
      "text/html": [
       "<div>\n",
       "<style scoped>\n",
       "    .dataframe tbody tr th:only-of-type {\n",
       "        vertical-align: middle;\n",
       "    }\n",
       "\n",
       "    .dataframe tbody tr th {\n",
       "        vertical-align: top;\n",
       "    }\n",
       "\n",
       "    .dataframe thead th {\n",
       "        text-align: right;\n",
       "    }\n",
       "</style>\n",
       "<table border=\"1\" class=\"dataframe\">\n",
       "  <thead>\n",
       "    <tr style=\"text-align: right;\">\n",
       "      <th></th>\n",
       "      <th>auctionId</th>\n",
       "      <th>timeStamp</th>\n",
       "      <th>placementId</th>\n",
       "      <th>websiteId</th>\n",
       "      <th>hashedRefererDeepThree</th>\n",
       "      <th>country</th>\n",
       "      <th>opeartingSystem</th>\n",
       "      <th>browser</th>\n",
       "      <th>browserVersion</th>\n",
       "      <th>device</th>\n",
       "      <th>environmentType</th>\n",
       "      <th>integrationType</th>\n",
       "      <th>articleSafenessCategorization</th>\n",
       "    </tr>\n",
       "  </thead>\n",
       "  <tbody>\n",
       "    <tr>\n",
       "      <th>0</th>\n",
       "      <td>00277acc-dee5-4065-a580-c49dbde5c02e_6c6fd7b0-...</td>\n",
       "      <td>1604180182</td>\n",
       "      <td>120706</td>\n",
       "      <td>68203</td>\n",
       "      <td>8448d2635d8ce25f3758907451fc740c4b2131693c7a8b...</td>\n",
       "      <td>CA</td>\n",
       "      <td>iOS</td>\n",
       "      <td>Facebook App</td>\n",
       "      <td>NaN</td>\n",
       "      <td>Phone</td>\n",
       "      <td>js-web</td>\n",
       "      <td>2</td>\n",
       "      <td>safe</td>\n",
       "    </tr>\n",
       "    <tr>\n",
       "      <th>1</th>\n",
       "      <td>0055d24f-bbf0-418d-84e7-df1d3124d6d6_60eaa750-...</td>\n",
       "      <td>1604145756</td>\n",
       "      <td>120706</td>\n",
       "      <td>68203</td>\n",
       "      <td>513dc346ab569ee76d6dbc927079b4049b1e9e95833d13...</td>\n",
       "      <td>US</td>\n",
       "      <td>Android</td>\n",
       "      <td>Facebook App</td>\n",
       "      <td>293_0</td>\n",
       "      <td>Phone</td>\n",
       "      <td>js-web</td>\n",
       "      <td>2</td>\n",
       "      <td>safe</td>\n",
       "    </tr>\n",
       "    <tr>\n",
       "      <th>2</th>\n",
       "      <td>005bc881-b650-4ccc-baa6-850c9710b0ea_15181501-...</td>\n",
       "      <td>1604095938</td>\n",
       "      <td>120706</td>\n",
       "      <td>68203</td>\n",
       "      <td>7b856dd2cffe043b51f48f9094a6a8bc58dbdea3bdd239...</td>\n",
       "      <td>MX</td>\n",
       "      <td>Android</td>\n",
       "      <td>Facebook App</td>\n",
       "      <td>274_0</td>\n",
       "      <td>Phone</td>\n",
       "      <td>js-web</td>\n",
       "      <td>2</td>\n",
       "      <td>safe</td>\n",
       "    </tr>\n",
       "    <tr>\n",
       "      <th>3</th>\n",
       "      <td>008c5f32-c29f-4726-8315-a2a4f2d10fb2_a4a0167f-...</td>\n",
       "      <td>1604257787</td>\n",
       "      <td>120706</td>\n",
       "      <td>68203</td>\n",
       "      <td>8448d2635d8ce25f3758907451fc740c4b2131693c7a8b...</td>\n",
       "      <td>US</td>\n",
       "      <td>iOS</td>\n",
       "      <td>Safari mobile</td>\n",
       "      <td>13_1</td>\n",
       "      <td>Phone</td>\n",
       "      <td>js-web</td>\n",
       "      <td>2</td>\n",
       "      <td>safe</td>\n",
       "    </tr>\n",
       "    <tr>\n",
       "      <th>4</th>\n",
       "      <td>00f96be1-59f2-43b6-a6d1-0668001cd08c_1014d516-...</td>\n",
       "      <td>1604265857</td>\n",
       "      <td>120706</td>\n",
       "      <td>68203</td>\n",
       "      <td>a64b4cf5e410623d0bb3d110b2d3183c1590f69e0e61af...</td>\n",
       "      <td>CA</td>\n",
       "      <td>Windows</td>\n",
       "      <td>Microsoft Edge</td>\n",
       "      <td>86_0</td>\n",
       "      <td>PC</td>\n",
       "      <td>js-web</td>\n",
       "      <td>2</td>\n",
       "      <td>unsafe</td>\n",
       "    </tr>\n",
       "  </tbody>\n",
       "</table>\n",
       "</div>"
      ],
      "text/plain": [
       "                                           auctionId   timeStamp  placementId  \\\n",
       "0  00277acc-dee5-4065-a580-c49dbde5c02e_6c6fd7b0-...  1604180182       120706   \n",
       "1  0055d24f-bbf0-418d-84e7-df1d3124d6d6_60eaa750-...  1604145756       120706   \n",
       "2  005bc881-b650-4ccc-baa6-850c9710b0ea_15181501-...  1604095938       120706   \n",
       "3  008c5f32-c29f-4726-8315-a2a4f2d10fb2_a4a0167f-...  1604257787       120706   \n",
       "4  00f96be1-59f2-43b6-a6d1-0668001cd08c_1014d516-...  1604265857       120706   \n",
       "\n",
       "   websiteId                             hashedRefererDeepThree country  \\\n",
       "0      68203  8448d2635d8ce25f3758907451fc740c4b2131693c7a8b...      CA   \n",
       "1      68203  513dc346ab569ee76d6dbc927079b4049b1e9e95833d13...      US   \n",
       "2      68203  7b856dd2cffe043b51f48f9094a6a8bc58dbdea3bdd239...      MX   \n",
       "3      68203  8448d2635d8ce25f3758907451fc740c4b2131693c7a8b...      US   \n",
       "4      68203  a64b4cf5e410623d0bb3d110b2d3183c1590f69e0e61af...      CA   \n",
       "\n",
       "  opeartingSystem         browser browserVersion device environmentType  \\\n",
       "0             iOS    Facebook App            NaN  Phone          js-web   \n",
       "1         Android    Facebook App          293_0  Phone          js-web   \n",
       "2         Android    Facebook App          274_0  Phone          js-web   \n",
       "3             iOS   Safari mobile           13_1  Phone          js-web   \n",
       "4         Windows  Microsoft Edge           86_0     PC          js-web   \n",
       "\n",
       "   integrationType articleSafenessCategorization  \n",
       "0                2                          safe  \n",
       "1                2                          safe  \n",
       "2                2                          safe  \n",
       "3                2                          safe  \n",
       "4                2                        unsafe  "
      ]
     },
     "execution_count": 4,
     "metadata": {},
     "output_type": "execute_result"
    }
   ],
   "source": [
    "df_test= pd.read_csv(\"test.csv\")\n",
    "df_test.head()"
   ]
  },
  {
   "cell_type": "markdown",
   "metadata": {},
   "source": [
    "# Data Exploration\n",
    "\n",
    "- Check missing data \n",
    "- Check if the target value is balanced"
   ]
  },
  {
   "cell_type": "code",
   "execution_count": 5,
   "metadata": {},
   "outputs": [
    {
     "name": "stdout",
     "output_type": "stream",
     "text": [
      "<class 'pandas.core.frame.DataFrame'>\n",
      "RangeIndex: 967332 entries, 0 to 967331\n",
      "Data columns (total 14 columns):\n",
      " #   Column                         Non-Null Count   Dtype \n",
      "---  ------                         --------------   ----- \n",
      " 0   auctionId                      967332 non-null  object\n",
      " 1   timeStamp                      967332 non-null  int64 \n",
      " 2   placementId                    967332 non-null  int64 \n",
      " 3   websiteId                      967332 non-null  int64 \n",
      " 4   hashedRefererDeepThree         951349 non-null  object\n",
      " 5   country                        966900 non-null  object\n",
      " 6   opeartingSystem                967332 non-null  object\n",
      " 7   browser                        967332 non-null  object\n",
      " 8   browserVersion                 837388 non-null  object\n",
      " 9   device                         967332 non-null  object\n",
      " 10  environmentType                967328 non-null  object\n",
      " 11  integrationType                967332 non-null  int64 \n",
      " 12  articleSafenessCategorization  967332 non-null  object\n",
      " 13  isSold                         967332 non-null  bool  \n",
      "dtypes: bool(1), int64(4), object(9)\n",
      "memory usage: 96.9+ MB\n"
     ]
    }
   ],
   "source": [
    "data_train.info()"
   ]
  },
  {
   "cell_type": "code",
   "execution_count": 6,
   "metadata": {},
   "outputs": [
    {
     "data": {
      "text/html": [
       "<div>\n",
       "<style scoped>\n",
       "    .dataframe tbody tr th:only-of-type {\n",
       "        vertical-align: middle;\n",
       "    }\n",
       "\n",
       "    .dataframe tbody tr th {\n",
       "        vertical-align: top;\n",
       "    }\n",
       "\n",
       "    .dataframe thead th {\n",
       "        text-align: right;\n",
       "    }\n",
       "</style>\n",
       "<table border=\"1\" class=\"dataframe\">\n",
       "  <thead>\n",
       "    <tr style=\"text-align: right;\">\n",
       "      <th></th>\n",
       "      <th>timeStamp</th>\n",
       "      <th>placementId</th>\n",
       "      <th>websiteId</th>\n",
       "      <th>integrationType</th>\n",
       "    </tr>\n",
       "  </thead>\n",
       "  <tbody>\n",
       "    <tr>\n",
       "      <th>count</th>\n",
       "      <td>9.673320e+05</td>\n",
       "      <td>967332.000000</td>\n",
       "      <td>967332.000000</td>\n",
       "      <td>967332.000000</td>\n",
       "    </tr>\n",
       "    <tr>\n",
       "      <th>mean</th>\n",
       "      <td>1.603976e+09</td>\n",
       "      <td>114074.378447</td>\n",
       "      <td>57675.090327</td>\n",
       "      <td>1.805757</td>\n",
       "    </tr>\n",
       "    <tr>\n",
       "      <th>std</th>\n",
       "      <td>1.762639e+05</td>\n",
       "      <td>17598.066714</td>\n",
       "      <td>14200.058036</td>\n",
       "      <td>0.395617</td>\n",
       "    </tr>\n",
       "    <tr>\n",
       "      <th>min</th>\n",
       "      <td>1.603670e+09</td>\n",
       "      <td>18341.000000</td>\n",
       "      <td>13734.000000</td>\n",
       "      <td>1.000000</td>\n",
       "    </tr>\n",
       "    <tr>\n",
       "      <th>25%</th>\n",
       "      <td>1.603823e+09</td>\n",
       "      <td>108383.000000</td>\n",
       "      <td>49049.000000</td>\n",
       "      <td>2.000000</td>\n",
       "    </tr>\n",
       "    <tr>\n",
       "      <th>50%</th>\n",
       "      <td>1.603978e+09</td>\n",
       "      <td>120938.000000</td>\n",
       "      <td>60581.000000</td>\n",
       "      <td>2.000000</td>\n",
       "    </tr>\n",
       "    <tr>\n",
       "      <th>75%</th>\n",
       "      <td>1.604133e+09</td>\n",
       "      <td>124467.000000</td>\n",
       "      <td>68951.000000</td>\n",
       "      <td>2.000000</td>\n",
       "    </tr>\n",
       "    <tr>\n",
       "      <th>max</th>\n",
       "      <td>1.604275e+09</td>\n",
       "      <td>133258.000000</td>\n",
       "      <td>74126.000000</td>\n",
       "      <td>2.000000</td>\n",
       "    </tr>\n",
       "  </tbody>\n",
       "</table>\n",
       "</div>"
      ],
      "text/plain": [
       "          timeStamp    placementId      websiteId  integrationType\n",
       "count  9.673320e+05  967332.000000  967332.000000    967332.000000\n",
       "mean   1.603976e+09  114074.378447   57675.090327         1.805757\n",
       "std    1.762639e+05   17598.066714   14200.058036         0.395617\n",
       "min    1.603670e+09   18341.000000   13734.000000         1.000000\n",
       "25%    1.603823e+09  108383.000000   49049.000000         2.000000\n",
       "50%    1.603978e+09  120938.000000   60581.000000         2.000000\n",
       "75%    1.604133e+09  124467.000000   68951.000000         2.000000\n",
       "max    1.604275e+09  133258.000000   74126.000000         2.000000"
      ]
     },
     "execution_count": 6,
     "metadata": {},
     "output_type": "execute_result"
    }
   ],
   "source": [
    "data_train.describe()"
   ]
  },
  {
   "cell_type": "markdown",
   "metadata": {},
   "source": [
    "We can see that 13% of the browserVersion column is missing. In this version, we will try to impute the missing value."
   ]
  },
  {
   "cell_type": "code",
   "execution_count": 7,
   "metadata": {},
   "outputs": [
    {
     "data": {
      "text/plain": [
       "auctionId                         0.000000\n",
       "timeStamp                         0.000000\n",
       "placementId                       0.000000\n",
       "websiteId                         0.000000\n",
       "hashedRefererDeepThree            1.652277\n",
       "country                           0.044659\n",
       "opeartingSystem                   0.000000\n",
       "browser                           0.000000\n",
       "browserVersion                   13.433237\n",
       "device                            0.000000\n",
       "environmentType                   0.000414\n",
       "integrationType                   0.000000\n",
       "articleSafenessCategorization     0.000000\n",
       "isSold                            0.000000\n",
       "dtype: float64"
      ]
     },
     "execution_count": 7,
     "metadata": {},
     "output_type": "execute_result"
    }
   ],
   "source": [
    "(data_train.isnull().sum()/len(data_train))*100"
   ]
  },
  {
   "cell_type": "code",
   "execution_count": 8,
   "metadata": {},
   "outputs": [
    {
     "data": {
      "image/png": "[encoded data removed]",
      "text/plain": [
       "<Figure size 720x504 with 1 Axes>"
      ]
     },
     "metadata": {},
     "output_type": "display_data"
    }
   ],
   "source": [
    "#See if isSold value are balanced\n",
    "sns.set(style=\"darkgrid\")\n",
    "plt.figure(figsize=(10, 7))\n",
    "\n",
    "# plot a bar chart\n",
    "ax = sns.countplot(x=\"isSold\", data=data_train)"
   ]
  },
  {
   "cell_type": "markdown",
   "metadata": {},
   "source": [
    "# Data Wrangling\n",
    "- Take care of the NaN Values\n",
    "- Encode the categorical variables (train and test dataset)\n",
    "- Split the data into train and test\n",
    "  "
   ]
  },
  {
   "cell_type": "markdown",
   "metadata": {},
   "source": [
    "## Function to do the data Wrangling\n",
    "\n",
    "We will use functions so that it will be easier feature engineering."
   ]
  },
  {
   "cell_type": "code",
   "execution_count": 9,
   "metadata": {},
   "outputs": [],
   "source": [
    "def clean_df(df,colname):\n",
    "    \"\"\" Clean the dataframe by removing the null values and replacing them with the mean of the column \n",
    "    \n",
    "    Args:\n",
    "        df (dataframe): dataframe to be cleaned\n",
    "        colname (string): name of the column to be cleaned\n",
    "\n",
    "    Returns:\n",
    "        df (dataframe): cleaned dataframe\n",
    "    \"\"\"\n",
    "\n",
    "    df = df.drop(columns=[\"auctionId\"])\n",
    "    for name in colname:\n",
    "        df[name] = df[name].replace(np.nan,\"unknown\")\n",
    "    return df"
   ]
  },
  {
   "cell_type": "code",
   "execution_count": 10,
   "metadata": {},
   "outputs": [],
   "source": [
    "def get_dummies_encoding(df,colname):\n",
    "    \"\"\" encode categorical data using the get_dummies function\n",
    "    \n",
    "    Args: \n",
    "        df (pandas dataframe): dataframe to encode\n",
    "        colname (list): list of columns to encode\n",
    "\n",
    "    Returns:\n",
    "        df (pandas dataframe): encoded dataframe\n",
    "    \"\"\"\n",
    "\n",
    "    for name in colname:\n",
    "        encoded = pd.get_dummies(df[name])\n",
    "        df = df.drop(columns=name)\n",
    "        df = pd.concat([df,encoded],axis=1)\n",
    "    return df"
   ]
  },
  {
   "cell_type": "code",
   "execution_count": 11,
   "metadata": {},
   "outputs": [],
   "source": [
    "def target_encode(df_train,df_test,colname,target_name,encoder):\n",
    "    \"\"\" Encode categorical data using the target encoder.\n",
    "    \n",
    "    Args: \n",
    "        df_train (pandas dataframe): train dataframe to fit_transform using the encoder\n",
    "        df_test (pandas dataframe): test dataframe to transform using the encoder\n",
    "        colname (list): list of columns to encode\n",
    "        target_name (str): name of the target column\n",
    "        encoder (sklearn encoder): encoder to use\n",
    "\n",
    "    Returns:\n",
    "        df_train (pandas dataframe): encoded train dataframe\n",
    "        df_test (pandas dataframe): encoded test dataframe\n",
    "    \"\"\"\n",
    "    \n",
    "    for name in colname:\n",
    "        df_train[name]= encoder.fit_transform(df_train[name],df_train[target_name])\n",
    "        df_test[name]=encoder.transform(df_test[name])\n",
    "    return df_train,df_test\n",
    "    "
   ]
  },
  {
   "cell_type": "code",
   "execution_count": 12,
   "metadata": {},
   "outputs": [],
   "source": [
    "def label_encode(df,colname,target_name):\n",
    "    \"\"\" DEPRECATED :D \"\"\"\n",
    "    encoder = LabelEncoder()\n",
    "    for name in colname:\n",
    "        df[name]= encoder.fit_transform(df[name])\n",
    "    return df"
   ]
  },
  {
   "cell_type": "code",
   "execution_count": 13,
   "metadata": {},
   "outputs": [],
   "source": [
    "def drop_columns(df,colname):\n",
    "    \"\"\" Drop columns from the dataframe.\n",
    "    \n",
    "    Args:\n",
    "        df (pandas dataFrame): datafram to drop columns from\n",
    "        colname (list): list of columns to drop\n",
    "    \n",
    "    Returns:\n",
    "        df (pandas dataFrame): dataframe with dropped columns\n",
    "    \"\"\"\n",
    "    for name in colname:\n",
    "        df = df.drop(columns=name)\n",
    "    return df"
   ]
  },
  {
   "cell_type": "markdown",
   "metadata": {},
   "source": [
    "**Convert [timestamp](https://towardsdatascience.com/machine-learning-with-datetime-feature-engineering-predicting-healthcare-appointment-no-shows-5e4ca3a85f96)**"
   ]
  },
  {
   "cell_type": "code",
   "execution_count": 14,
   "metadata": {},
   "outputs": [],
   "source": [
    "def splitTimeStamp(df):\n",
    "    \"\"\" Split the timestamp column into separate columns.\n",
    "    \n",
    "    Args:\n",
    "        df (pandas dataFrame): dataframe to split the timestamp column from\n",
    "    \n",
    "    Returns:\n",
    "        df (pandas dataFrame): dataframe with the timestamp column split into separate columns\n",
    "    \"\"\"\n",
    "    \n",
    "    date = pd.to_datetime(df[\"timeStamp\"],unit=\"s\")\n",
    "    df[\"year\"] = date.dt.year\n",
    "    df[\"month\"] = date.dt.month\n",
    "    df[\"week\"] = date.dt.week\n",
    "    df[\"day\"] = date.dt.day\n",
    "    df[\"hour\"] = date.dt.hour\n",
    "    df[\"minute\"] = date.dt.minute\n",
    "    df[\"second\"] = date.dt.second\n",
    "    df = df.drop(columns=['timeStamp'])\n",
    "    return df"
   ]
  },
  {
   "cell_type": "code",
   "execution_count": 15,
   "metadata": {},
   "outputs": [],
   "source": [
    "def concatFeaturesToTarget(df, featuresToConcat, target):\n",
    "    \"\"\" Concatenate features to the target column.\n",
    "        \n",
    "        Args:\n",
    "            df (pandas dataFrame): dataframe to concatenate features to the target column\n",
    "            featuresToConcat (list): list of features to concatenate\n",
    "            target (str): name of the target column\n",
    "\n",
    "        Returns:\n",
    "            df (pandas dataFrame): dataframe with the features concatenated to the target column\n",
    "    \"\"\"\n",
    "    \n",
    "    concatDf = pd.DataFrame()\n",
    "    for feature in featuresToConcat:\n",
    "        concatDf[feature+\"X\"+target] = df[target].str.cat(df[feature].astype(str),sep=\",\")\n",
    "    return concatDf"
   ]
  },
  {
   "cell_type": "code",
   "execution_count": 16,
   "metadata": {},
   "outputs": [],
   "source": [
    "def convert_to_string(df,colname):\n",
    "    \"\"\" Convert columns to string.\n",
    "\n",
    "    Args:\n",
    "        df (pandas dataFrame): dataframe to convert columns to string\n",
    "        colname (list): list of columns to convert\n",
    "    \n",
    "    Returns:\n",
    "        df (pandas dataFrame): dataframe with columns converted to string\n",
    "    \"\"\"\n",
    "    \n",
    "    for name in colname:\n",
    "        df[name] = df[name].astype(str)\n",
    "    return df"
   ]
  },
  {
   "cell_type": "markdown",
   "metadata": {},
   "source": [
    "## Apply the functions of the data\n",
    "- We concat a certain number of columns to perform our feature engineering\n",
    "- We One Hot Encoded the columns that have a finite number of values\n",
    "- We limited the number of features to prevent overfitting"
   ]
  },
  {
   "cell_type": "code",
   "execution_count": 17,
   "metadata": {},
   "outputs": [],
   "source": [
    "colname_to_clean = [\"browserVersion\",\"hashedRefererDeepThree\",\"environmentType\",\"country\"]\n",
    "data_train_clean=clean_df(data_train.copy(),colname_to_clean)\n",
    "data_test=clean_df(df_test.copy(),colname_to_clean)"
   ]
  },
  {
   "cell_type": "code",
   "execution_count": 18,
   "metadata": {},
   "outputs": [],
   "source": [
    "colname_to_convert = [\"placementId\",\"websiteId\"]\n",
    "data_train_clean=convert_to_string(data_train_clean,colname_to_convert)\n",
    "data_test=convert_to_string(data_test,colname_to_convert)"
   ]
  },
  {
   "cell_type": "code",
   "execution_count": 19,
   "metadata": {},
   "outputs": [
    {
     "name": "stderr",
     "output_type": "stream",
     "text": [
      "/tmp/ipykernel_13362/125375712.py:14: FutureWarning: Series.dt.weekofyear and Series.dt.week have been deprecated. Please use Series.dt.isocalendar().week instead.\n",
      "  df[\"week\"] = date.dt.week\n",
      "/tmp/ipykernel_13362/125375712.py:14: FutureWarning: Series.dt.weekofyear and Series.dt.week have been deprecated. Please use Series.dt.isocalendar().week instead.\n",
      "  df[\"week\"] = date.dt.week\n"
     ]
    }
   ],
   "source": [
    "#NEEDS TO BE REFACTORED\n",
    "dateConcatCountryDf = concatFeaturesToTarget(splitTimeStamp(data_train_clean), ['hour', 'minute'], 'country')\n",
    "data_train_clean = pd.concat([data_train_clean.drop(columns=['timeStamp']),dateConcatCountryDf], axis=1)\n",
    "dateConcatCountryDf_test = concatFeaturesToTarget(splitTimeStamp(data_test), ['hour', 'minute'], 'country')\n",
    "data_test = pd.concat([data_test.drop(columns=['timeStamp']),dateConcatCountryDf_test], axis=1)"
   ]
  },
  {
   "cell_type": "code",
   "execution_count": 20,
   "metadata": {},
   "outputs": [],
   "source": [
    "data_train_concat = concatFeaturesToTarget(data_train_clean, ['device','country'], 'websiteId')\n",
    "data_train_clean = pd.concat([data_train_clean,data_train_concat], axis=1)\n",
    "data_test_concat = concatFeaturesToTarget(data_test, ['device','country'], 'websiteId')\n",
    "data_test = pd.concat([data_test,data_test_concat], axis=1)"
   ]
  },
  {
   "cell_type": "code",
   "execution_count": 21,
   "metadata": {},
   "outputs": [],
   "source": [
    "data_train_concat = concatFeaturesToTarget(data_train_clean, ['browser'], 'device')\n",
    "data_train_clean = pd.concat([data_train_clean,data_train_concat], axis=1)\n",
    "data_test_concat = concatFeaturesToTarget(data_test, ['browser'], 'device')\n",
    "data_test = pd.concat([data_test,data_test_concat], axis=1)"
   ]
  },
  {
   "cell_type": "code",
   "execution_count": 22,
   "metadata": {},
   "outputs": [
    {
     "name": "stderr",
     "output_type": "stream",
     "text": [
      "/home/lapbeer/.local/lib/python3.8/site-packages/category_encoders/target_encoder.py:92: FutureWarning: Default parameter min_samples_leaf will change in version 2.6.See https://github.com/scikit-learn-contrib/category_encoders/issues/327\n",
      "  warnings.warn(\"Default parameter min_samples_leaf will change in version 2.6.\"\n",
      "/home/lapbeer/.local/lib/python3.8/site-packages/category_encoders/target_encoder.py:97: FutureWarning: Default parameter smoothing will change in version 2.6.See https://github.com/scikit-learn-contrib/category_encoders/issues/327\n",
      "  warnings.warn(\"Default parameter smoothing will change in version 2.6.\"\n"
     ]
    }
   ],
   "source": [
    "#Encode data with target encoding and get_dummies\n",
    "colname_dummy = [\"articleSafenessCategorization\",\"environmentType\",\"device\"]\n",
    "data_train_clean = get_dummies_encoding(data_train_clean.copy(),colname_dummy)\n",
    "data_test = get_dummies_encoding(data_test.copy(),colname_dummy)\n",
    "\n",
    "encoder = TargetEncoder()\n",
    "colname_target_encode =[\"opeartingSystem\",\"country\",\"browser\",\"browserVersion\",\"hashedRefererDeepThree\",\"placementId\",\"websiteId\",\"browserXdevice\",\"countryXwebsiteId\",\"deviceXwebsiteId\",'hourXcountry', 'minuteXcountry'] \n",
    "data_train_clean,data_test = target_encode(data_train_clean.copy(),data_test.copy(),colname_target_encode,\"isSold\",encoder)"
   ]
  },
  {
   "cell_type": "code",
   "execution_count": 23,
   "metadata": {},
   "outputs": [
    {
     "data": {
      "text/plain": [
       "((967332, 42), (242171, 41))"
      ]
     },
     "execution_count": 23,
     "metadata": {},
     "output_type": "execute_result"
    }
   ],
   "source": [
    "data_train_clean.shape,data_test.shape\n",
    "#Data_test hasn't isSold columns"
   ]
  },
  {
   "cell_type": "markdown",
   "metadata": {},
   "source": [
    "# Train 1st model with XGBoost Native"
   ]
  },
  {
   "cell_type": "code",
   "execution_count": 24,
   "metadata": {},
   "outputs": [],
   "source": [
    "from xgboost import XGBClassifier as XGB\n",
    "model = XGB(\n",
    "    objective=\"binary:logistic\",\n",
    "    max_depth=8,\n",
    "    nthread=6,\n",
    "    reg_lambda=20,\n",
    "    sketch_eps=0.001,\n",
    "    colsample_bytree=0.5,\n",
    "    learning_rate=0.3,\n",
    "    alpha=10,\n",
    "    n_estimators=300,\n",
    ")"
   ]
  },
  {
   "cell_type": "code",
   "execution_count": 25,
   "metadata": {},
   "outputs": [],
   "source": [
    "X = data_train_clean.drop(columns=[\"isSold\"]).to_numpy()\n",
    "y = data_train_clean[\"isSold\"].to_numpy()\n",
    "X_train, X_test, y_train, y_test = train_test_split(X, y, test_size=0.2, random_state=2)"
   ]
  },
  {
   "cell_type": "code",
   "execution_count": 26,
   "metadata": {},
   "outputs": [
    {
     "data": {
      "text/plain": [
       "0.7875552755317534"
      ]
     },
     "execution_count": 26,
     "metadata": {},
     "output_type": "execute_result"
    }
   ],
   "source": [
    "model.fit(X_train,y_train)\n",
    "y_pred = model.predict(X_test)\n",
    "f1_score(y_test,y_pred)"
   ]
  },
  {
   "cell_type": "code",
   "execution_count": 27,
   "metadata": {},
   "outputs": [
    {
     "data": {
      "text/plain": [
       "0.8068538549655033"
      ]
     },
     "execution_count": 27,
     "metadata": {},
     "output_type": "execute_result"
    }
   ],
   "source": [
    "y_training_pred = model.predict(X_train)\n",
    "f1_score(y_train,y_training_pred)"
   ]
  },
  {
   "cell_type": "markdown",
   "metadata": {},
   "source": [
    "# Train 2nd model with LightGBM\n",
    "*[Ressource](https://towardsdatascience.com/kagglers-guide-to-lightgbm-hyperparameter-tuning-with-optuna-in-2021-ed048d9838b5\n",
    ") , [Documentation](https://lightgbm.readthedocs.io/en/latest/Parameters-Tuning.html#tune-parameters-for-the-leaf-wise-best-first-tree)*\n",
    "\n",
    "\n",
    "**Hyperparameters that control the tree structure:** \n",
    "\n",
    "- In LGBM, the most important parameter to control the tree structure is `num_leaves`. As the name suggests, it controls the number of decision leaves in a single tree. \n",
    "- The higher `max_depth`, the more levels the tree has, which makes it more complex and prone to overfit. Too low, and you will underfit. A good range is between 3 and 12.\n",
    "- Good rule of thumb is: the maximum limit to `num_leaves` should be `2^(max_depth)`\n",
    "- `min_data_in_leaf`: This is a very important parameter to prevent over-fitting in a leaf-wise tree. Its optimal value depends on the number of training samples and num_leaves. Setting it to a large value can avoid growing too deep a tree, but may cause under-fitting. In practice, setting it to hundreds or thousands is enough for a large dataset.\n",
    "  \n",
    "\n",
    "**Hyperparameters for better accuracy:**\n",
    "\n",
    "- `n_estimators`: controls the number of decision trees \n",
    "- `learning_rate`: is the step size parameter of the gradient descent.\n",
    "- The perfect setup for these 2 parameters (n_estimators and learning_rate) is to use many trees with early stopping and set a low value for `learning_rate`.\n",
    "- Use large `max_bin` (may be slower)\n",
    "\n",
    "**Hyperparameters to control overfitting:**\n",
    "- Use small `max_bin`\n",
    "- Use small `num_leaves`\n",
    "- Use `min_data_in_leaf` and `min_sum_hessian_in_leaf`\n",
    "- Use bagging by `set bagging_fraction` and `bagging_freq`\n",
    "- Use feature sub-sampling by set `feature_fraction`\n",
    "- Use bigger training data\n",
    "- Try `lambda_l1`, `lambda_l2` and `min_gain_to_split` for regularization\n",
    "- Try `max_depth` to avoid growing deep tree\n",
    "- Try `extra_trees`\n",
    "- Try `increasing path_smooth`\n"
   ]
  },
  {
   "cell_type": "code",
   "execution_count": 28,
   "metadata": {},
   "outputs": [],
   "source": [
    "import lightgbm as lgb \n",
    "clf_lgb = lgb.LGBMClassifier(\n",
    "    max_bin=500,\n",
    "    max_depth = 8,\n",
    "    num_leaves = 100,\n",
    "    min_data_in_leaf=500,\n",
    "    learning_rate=0.08,\n",
    "    n_estimators=500\n",
    ")\n"
   ]
  },
  {
   "cell_type": "code",
   "execution_count": 29,
   "metadata": {},
   "outputs": [
    {
     "name": "stdout",
     "output_type": "stream",
     "text": [
      "[LightGBM] [Warning] min_data_in_leaf is set=500, min_child_samples=20 will be ignored. Current value: min_data_in_leaf=500\n"
     ]
    },
    {
     "data": {
      "text/plain": [
       "0.7880835595530753"
      ]
     },
     "execution_count": 29,
     "metadata": {},
     "output_type": "execute_result"
    }
   ],
   "source": [
    "clf_lgb.fit(X_train,y_train)\n",
    "y_pred_lgb = clf_lgb.predict(X_test)\n",
    "f1_score(y_test,y_pred_lgb)"
   ]
  },
  {
   "cell_type": "code",
   "execution_count": 30,
   "metadata": {},
   "outputs": [
    {
     "data": {
      "text/plain": [
       "0.7970348846519469"
      ]
     },
     "execution_count": 30,
     "metadata": {},
     "output_type": "execute_result"
    }
   ],
   "source": [
    "y_training_pred_lgb = clf_lgb.predict(X_train)\n",
    "f1_score(y_train,y_training_pred_lgb)"
   ]
  },
  {
   "cell_type": "code",
   "execution_count": 31,
   "metadata": {},
   "outputs": [
    {
     "data": {
      "text/plain": [
       "Index(['placementId', 'websiteId', 'hashedRefererDeepThree', 'country',\n",
       "       'opeartingSystem', 'browser', 'browserVersion', 'integrationType',\n",
       "       'isSold', 'year', 'month', 'week', 'day', 'hour', 'minute', 'second',\n",
       "       'hourXcountry', 'minuteXcountry', 'deviceXwebsiteId',\n",
       "       'countryXwebsiteId', 'browserXdevice', 'safe', 'uncat', 'unsafe',\n",
       "       'js-amp', 'js-ampsf', 'js-ampsf-canvas', 'js-fbwv', 'js-fbwv-canvas',\n",
       "       'js-sf', 'js-web', 'js-web-canvas', 'js-wv', 'js-wv-canvas',\n",
       "       'sdk-inapp', 'thirdparty-inapp', 'thirdparty-web', 'unknown', 'IPTV',\n",
       "       'PC', 'Phone', 'Tablet'],\n",
       "      dtype='object')"
      ]
     },
     "execution_count": 31,
     "metadata": {},
     "output_type": "execute_result"
    },
    {
     "data": {
      "image/png": "[encoded data removed]",
      "text/plain": [
       "<Figure size 1440x1152 with 1 Axes>"
      ]
     },
     "metadata": {},
     "output_type": "display_data"
    }
   ],
   "source": [
    "plt.rcParams[\"figure.figsize\"] = (20, 16)\n",
    "lgb.plot_importance(clf_lgb,max_num_features = 60, height=10)\n",
    "data_train_clean.columns\n"
   ]
  },
  {
   "cell_type": "markdown",
   "metadata": {},
   "source": [
    "## Grid Search CV\n",
    "We use the Grid Search CV to find the best parameters for the model.\n",
    "\n",
    "**How does it work ?**\n",
    "\n",
    "Grid Search CV brute force the list of parameters we give it and find the best parameters by trying every combination of the parameters. Also, GSCV uses K-Fold CrossValidation to ensure that the parameters are the best for different version of the data.\n",
    "\n",
    "We used it mostly on google colab because takes too much time on our computer.\n",
    "\n",
    "**Best hyperparameters**\n",
    "\n",
    "For XGBoost:\n",
    "- colsample_bytree: 0.5, \n",
    "- learning_rate: 0.3 \n",
    "- max_depth: 6, *Increased this parameter in our model to 8 to have a better performance. The more you increase this parameter the more you may have overfitting.* \n",
    "- n_estimators: 300\n",
    "\n",
    "  \n",
    "For LightGBM:\n",
    "- max_bin=500\n",
    "- max_depth = 8; 10 but more prone to overfitting?\n",
    "- num_leaves = 400,\n",
    "- min_data_in_leaf=300,\n",
    "- learning_rate=0.1,\n",
    "- n_estimators=1000 ; 2000 but more prone to overfitting"
   ]
  },
  {
   "cell_type": "code",
   "execution_count": 27,
   "metadata": {},
   "outputs": [],
   "source": [
    "from sklearn.model_selection import GridSearchCV\n",
    "params_XGBoost = { 'max_depth': range(6,10,1),\n",
    "           'learning_rate': [0.3],\n",
    "           'n_estimators': range(100,350,50),\n",
    "           'colsample_bytree': [0.5]}\n",
    "\n",
    "params_LGBM = { 'max_depth': range(6,10,2),\n",
    "    'num_leaves' : [400],\n",
    "    #range(300,600,100),\n",
    "    'min_data_in_leaf':[300],\n",
    "    'learning_rate':[0.1],\n",
    "    'n_estimators':range(500,1000,500)\n",
    "}"
   ]
  },
  {
   "cell_type": "code",
   "execution_count": 28,
   "metadata": {},
   "outputs": [],
   "source": [
    "f1 = make_scorer(f1_score , average='macro')"
   ]
  },
  {
   "cell_type": "code",
   "execution_count": 111,
   "metadata": {},
   "outputs": [],
   "source": [
    "xgbr = XGB()\n",
    "\n",
    "clf = GridSearchCV(estimator=xgbr, \n",
    "                   param_grid=params_XGBoost,\n",
    "                   scoring=f1, #f1_score\n",
    "                   cv = 4,\n",
    "                \n",
    "                   verbose=1)"
   ]
  },
  {
   "cell_type": "code",
   "execution_count": 32,
   "metadata": {},
   "outputs": [],
   "source": [
    "lgbm = lgb.LGBMClassifier()\n",
    "clf_2 = GridSearchCV(estimator=lgbm, \n",
    "                   param_grid=params_LGBM,\n",
    "                   scoring=f1, #f1_score\n",
    "                   cv = 4,       \n",
    "                   verbose=1)"
   ]
  },
  {
   "cell_type": "code",
   "execution_count": 33,
   "metadata": {},
   "outputs": [
    {
     "name": "stdout",
     "output_type": "stream",
     "text": [
      "Fitting 4 folds for each of 2 candidates, totalling 8 fits\n",
      "[LightGBM] [Warning] min_data_in_leaf is set=300, min_child_samples=20 will be ignored. Current value: min_data_in_leaf=300\n",
      "[LightGBM] [Warning] min_data_in_leaf is set=300, min_child_samples=20 will be ignored. Current value: min_data_in_leaf=300\n",
      "[LightGBM] [Warning] min_data_in_leaf is set=300, min_child_samples=20 will be ignored. Current value: min_data_in_leaf=300\n",
      "[LightGBM] [Warning] min_data_in_leaf is set=300, min_child_samples=20 will be ignored. Current value: min_data_in_leaf=300\n",
      "[LightGBM] [Warning] min_data_in_leaf is set=300, min_child_samples=20 will be ignored. Current value: min_data_in_leaf=300\n",
      "[LightGBM] [Warning] min_data_in_leaf is set=300, min_child_samples=20 will be ignored. Current value: min_data_in_leaf=300\n",
      "[LightGBM] [Warning] min_data_in_leaf is set=300, min_child_samples=20 will be ignored. Current value: min_data_in_leaf=300\n",
      "[LightGBM] [Warning] min_data_in_leaf is set=300, min_child_samples=20 will be ignored. Current value: min_data_in_leaf=300\n"
     ]
    },
    {
     "data": {
      "text/html": [
       "<style>#sk-container-id-2 {color: black;background-color: white;}#sk-container-id-2 pre{padding: 0;}#sk-container-id-2 div.sk-toggleable {background-color: white;}#sk-container-id-2 label.sk-toggleable__label {cursor: pointer;display: block;width: 100%;margin-bottom: 0;padding: 0.3em;box-sizing: border-box;text-align: center;}#sk-container-id-2 label.sk-toggleable__label-arrow:before {content: \"▸\";float: left;margin-right: 0.25em;color: #696969;}#sk-container-id-2 label.sk-toggleable__label-arrow:hover:before {color: black;}#sk-container-id-2 div.sk-estimator:hover label.sk-toggleable__label-arrow:before {color: black;}#sk-container-id-2 div.sk-toggleable__content {max-height: 0;max-width: 0;overflow: hidden;text-align: left;background-color: #f0f8ff;}#sk-container-id-2 div.sk-toggleable__content pre {margin: 0.2em;color: black;border-radius: 0.25em;background-color: #f0f8ff;}#sk-container-id-2 input.sk-toggleable__control:checked~div.sk-toggleable__content {max-height: 200px;max-width: 100%;overflow: auto;}#sk-container-id-2 input.sk-toggleable__control:checked~label.sk-toggleable__label-arrow:before {content: \"▾\";}#sk-container-id-2 div.sk-estimator input.sk-toggleable__control:checked~label.sk-toggleable__label {background-color: #d4ebff;}#sk-container-id-2 div.sk-label input.sk-toggleable__control:checked~label.sk-toggleable__label {background-color: #d4ebff;}#sk-container-id-2 input.sk-hidden--visually {border: 0;clip: rect(1px 1px 1px 1px);clip: rect(1px, 1px, 1px, 1px);height: 1px;margin: -1px;overflow: hidden;padding: 0;position: absolute;width: 1px;}#sk-container-id-2 div.sk-estimator {font-family: monospace;background-color: #f0f8ff;border: 1px dotted black;border-radius: 0.25em;box-sizing: border-box;margin-bottom: 0.5em;}#sk-container-id-2 div.sk-estimator:hover {background-color: #d4ebff;}#sk-container-id-2 div.sk-parallel-item::after {content: \"\";width: 100%;border-bottom: 1px solid gray;flex-grow: 1;}#sk-container-id-2 div.sk-label:hover label.sk-toggleable__label {background-color: #d4ebff;}#sk-container-id-2 div.sk-serial::before {content: \"\";position: absolute;border-left: 1px solid gray;box-sizing: border-box;top: 0;bottom: 0;left: 50%;z-index: 0;}#sk-container-id-2 div.sk-serial {display: flex;flex-direction: column;align-items: center;background-color: white;padding-right: 0.2em;padding-left: 0.2em;position: relative;}#sk-container-id-2 div.sk-item {position: relative;z-index: 1;}#sk-container-id-2 div.sk-parallel {display: flex;align-items: stretch;justify-content: center;background-color: white;position: relative;}#sk-container-id-2 div.sk-item::before, #sk-container-id-2 div.sk-parallel-item::before {content: \"\";position: absolute;border-left: 1px solid gray;box-sizing: border-box;top: 0;bottom: 0;left: 50%;z-index: -1;}#sk-container-id-2 div.sk-parallel-item {display: flex;flex-direction: column;z-index: 1;position: relative;background-color: white;}#sk-container-id-2 div.sk-parallel-item:first-child::after {align-self: flex-end;width: 50%;}#sk-container-id-2 div.sk-parallel-item:last-child::after {align-self: flex-start;width: 50%;}#sk-container-id-2 div.sk-parallel-item:only-child::after {width: 0;}#sk-container-id-2 div.sk-dashed-wrapped {border: 1px dashed gray;margin: 0 0.4em 0.5em 0.4em;box-sizing: border-box;padding-bottom: 0.4em;background-color: white;}#sk-container-id-2 div.sk-label label {font-family: monospace;font-weight: bold;display: inline-block;line-height: 1.2em;}#sk-container-id-2 div.sk-label-container {text-align: center;}#sk-container-id-2 div.sk-container {/* jupyter's `normalize.less` sets `[hidden] { display: none; }` but bootstrap.min.css set `[hidden] { display: none !important; }` so we also need the `!important` here to be able to override the default hidden behavior on the sphinx rendered scikit-learn.org. See: https://github.com/scikit-learn/scikit-learn/issues/21755 */display: inline-block !important;position: relative;}#sk-container-id-2 div.sk-text-repr-fallback {display: none;}</style><div id=\"sk-container-id-2\" class=\"sk-top-container\"><div class=\"sk-text-repr-fallback\"><pre>GridSearchCV(cv=4, estimator=LGBMClassifier(),\n",
       "             param_grid={&#x27;learning_rate&#x27;: [0.1], &#x27;max_depth&#x27;: range(6, 10, 2),\n",
       "                         &#x27;min_data_in_leaf&#x27;: [300],\n",
       "                         &#x27;n_estimators&#x27;: range(500, 1000, 500),\n",
       "                         &#x27;num_leaves&#x27;: [400]},\n",
       "             scoring=make_scorer(f1_score, average=macro), verbose=1)</pre><b>In a Jupyter environment, please rerun this cell to show the HTML representation or trust the notebook. <br />On GitHub, the HTML representation is unable to render, please try loading this page with nbviewer.org.</b></div><div class=\"sk-container\" hidden><div class=\"sk-item sk-dashed-wrapped\"><div class=\"sk-label-container\"><div class=\"sk-label sk-toggleable\"><input class=\"sk-toggleable__control sk-hidden--visually\" id=\"sk-estimator-id-4\" type=\"checkbox\" ><label for=\"sk-estimator-id-4\" class=\"sk-toggleable__label sk-toggleable__label-arrow\">GridSearchCV</label><div class=\"sk-toggleable__content\"><pre>GridSearchCV(cv=4, estimator=LGBMClassifier(),\n",
       "             param_grid={&#x27;learning_rate&#x27;: [0.1], &#x27;max_depth&#x27;: range(6, 10, 2),\n",
       "                         &#x27;min_data_in_leaf&#x27;: [300],\n",
       "                         &#x27;n_estimators&#x27;: range(500, 1000, 500),\n",
       "                         &#x27;num_leaves&#x27;: [400]},\n",
       "             scoring=make_scorer(f1_score, average=macro), verbose=1)</pre></div></div></div><div class=\"sk-parallel\"><div class=\"sk-parallel-item\"><div class=\"sk-item\"><div class=\"sk-label-container\"><div class=\"sk-label sk-toggleable\"><input class=\"sk-toggleable__control sk-hidden--visually\" id=\"sk-estimator-id-5\" type=\"checkbox\" ><label for=\"sk-estimator-id-5\" class=\"sk-toggleable__label sk-toggleable__label-arrow\">estimator: LGBMClassifier</label><div class=\"sk-toggleable__content\"><pre>LGBMClassifier()</pre></div></div></div><div class=\"sk-serial\"><div class=\"sk-item\"><div class=\"sk-estimator sk-toggleable\"><input class=\"sk-toggleable__control sk-hidden--visually\" id=\"sk-estimator-id-6\" type=\"checkbox\" ><label for=\"sk-estimator-id-6\" class=\"sk-toggleable__label sk-toggleable__label-arrow\">LGBMClassifier</label><div class=\"sk-toggleable__content\"><pre>LGBMClassifier()</pre></div></div></div></div></div></div></div></div></div></div>"
      ],
      "text/plain": [
       "GridSearchCV(cv=4, estimator=LGBMClassifier(),\n",
       "             param_grid={'learning_rate': [0.1], 'max_depth': range(6, 10, 2),\n",
       "                         'min_data_in_leaf': [300],\n",
       "                         'n_estimators': range(500, 1000, 500),\n",
       "                         'num_leaves': [400]},\n",
       "             scoring=make_scorer(f1_score, average=macro), verbose=1)"
      ]
     },
     "execution_count": 33,
     "metadata": {},
     "output_type": "execute_result"
    }
   ],
   "source": [
    "#clf.fit(X, y)\n",
    "clf_2.fit(X,y)"
   ]
  },
  {
   "cell_type": "code",
   "execution_count": 34,
   "metadata": {},
   "outputs": [
    {
     "name": "stdout",
     "output_type": "stream",
     "text": [
      "Best parameters: {'learning_rate': 0.1, 'max_depth': 6, 'min_data_in_leaf': 300, 'n_estimators': 500, 'num_leaves': 400}\n",
      "Best score: 0.7144033259125255\n"
     ]
    }
   ],
   "source": [
    "#print(\"Best parameters:\", clf.best_params_)\n",
    "#print(\"Best score:\", clf.best_score_)\n",
    "\n",
    "print(\"Best parameters:\", clf_2.best_params_)\n",
    "print(\"Best score:\", clf_2.best_score_)\n"
   ]
  },
  {
   "cell_type": "markdown",
   "metadata": {},
   "source": [
    "# Predict on the test dataset\n",
    "- Use our best model to predict the isSold value on the test dataset.\n",
    "- Add our results to the submission file.\n",
    "- Submit directly to Kaggle using the Kaggle API."
   ]
  },
  {
   "cell_type": "code",
   "execution_count": null,
   "metadata": {},
   "outputs": [],
   "source": [
    "#Predict on the test set\n",
    "y_testing = data_test.to_numpy()\n",
    "#y_testing_pred = model.predict(y_testing)\n",
    "y_testing_pred = clf_lgb.predict(y_testing)\n"
   ]
  },
  {
   "cell_type": "code",
   "execution_count": null,
   "metadata": {},
   "outputs": [
    {
     "data": {
      "text/html": [
       "<div>\n",
       "<style scoped>\n",
       "    .dataframe tbody tr th:only-of-type {\n",
       "        vertical-align: middle;\n",
       "    }\n",
       "\n",
       "    .dataframe tbody tr th {\n",
       "        vertical-align: top;\n",
       "    }\n",
       "\n",
       "    .dataframe thead th {\n",
       "        text-align: right;\n",
       "    }\n",
       "</style>\n",
       "<table border=\"1\" class=\"dataframe\">\n",
       "  <thead>\n",
       "    <tr style=\"text-align: right;\">\n",
       "      <th></th>\n",
       "      <th>auctionId</th>\n",
       "      <th>isSold</th>\n",
       "    </tr>\n",
       "  </thead>\n",
       "  <tbody>\n",
       "    <tr>\n",
       "      <th>0</th>\n",
       "      <td>00277acc-dee5-4065-a580-c49dbde5c02e_6c6fd7b0-...</td>\n",
       "      <td>False</td>\n",
       "    </tr>\n",
       "    <tr>\n",
       "      <th>1</th>\n",
       "      <td>0055d24f-bbf0-418d-84e7-df1d3124d6d6_60eaa750-...</td>\n",
       "      <td>True</td>\n",
       "    </tr>\n",
       "    <tr>\n",
       "      <th>2</th>\n",
       "      <td>005bc881-b650-4ccc-baa6-850c9710b0ea_15181501-...</td>\n",
       "      <td>False</td>\n",
       "    </tr>\n",
       "    <tr>\n",
       "      <th>3</th>\n",
       "      <td>008c5f32-c29f-4726-8315-a2a4f2d10fb2_a4a0167f-...</td>\n",
       "      <td>False</td>\n",
       "    </tr>\n",
       "    <tr>\n",
       "      <th>4</th>\n",
       "      <td>00f96be1-59f2-43b6-a6d1-0668001cd08c_1014d516-...</td>\n",
       "      <td>False</td>\n",
       "    </tr>\n",
       "  </tbody>\n",
       "</table>\n",
       "</div>"
      ],
      "text/plain": [
       "                                           auctionId  isSold\n",
       "0  00277acc-dee5-4065-a580-c49dbde5c02e_6c6fd7b0-...   False\n",
       "1  0055d24f-bbf0-418d-84e7-df1d3124d6d6_60eaa750-...    True\n",
       "2  005bc881-b650-4ccc-baa6-850c9710b0ea_15181501-...   False\n",
       "3  008c5f32-c29f-4726-8315-a2a4f2d10fb2_a4a0167f-...   False\n",
       "4  00f96be1-59f2-43b6-a6d1-0668001cd08c_1014d516-...   False"
      ]
     },
     "execution_count": 53,
     "metadata": {},
     "output_type": "execute_result"
    }
   ],
   "source": [
    "df_submission = pd.read_csv(\"testSubmissionFile.csv\")\n",
    "df_submission[\"isSold\"] = y_testing_pred\n",
    "df_submission.head()"
   ]
  },
  {
   "cell_type": "code",
   "execution_count": null,
   "metadata": {},
   "outputs": [],
   "source": [
    "df_submission.to_csv(\"testSubmissionFile_bestVersion.csv\", index=False)"
   ]
  },
  {
   "cell_type": "code",
   "execution_count": 55,
   "metadata": {},
   "outputs": [
    {
     "name": "stdout",
     "output_type": "stream",
     "text": [
      "100%|██████████████████████████████████████| 16.7M/16.7M [00:03<00:00, 5.71MB/s]\n",
      "Successfully submitted to EPF MONTPELLIER 2022"
     ]
    }
   ],
   "source": [
    "#Submit on Kaggle using the Kaggle API and bash command.\n",
    "!kaggle competitions submit -c epf-montpellier-2022 -f testSubmissionFile_bestVersion.csv -m \"Trying to get back to top 1 for sure !!\"\n"
   ]
  },
  {
   "cell_type": "markdown",
   "metadata": {},
   "source": [
    "## Train Model with Dask XGBoost\n",
    "\n",
    "We tried to use the Dask Library to do parallel computing. We might used it wrong as it takes more time with this library...\n",
    "Dask and Spark and tools that we need to look further in the future. "
   ]
  },
  {
   "cell_type": "code",
   "execution_count": 55,
   "metadata": {},
   "outputs": [],
   "source": [
    "import dask.dataframe as dd"
   ]
  },
  {
   "cell_type": "code",
   "execution_count": 56,
   "metadata": {},
   "outputs": [
    {
     "name": "stderr",
     "output_type": "stream",
     "text": [
      "2022-06-10 00:09:23,123 - distributed.diskutils - INFO - Found stale lock file and directory '/home/lapbeer/Documents/epf/intro_ML/Teads-Kaggle-Competition/dask-worker-space/worker-qxp_y99p', purging\n",
      "2022-06-10 00:09:23,125 - distributed.diskutils - INFO - Found stale lock file and directory '/home/lapbeer/Documents/epf/intro_ML/Teads-Kaggle-Competition/dask-worker-space/worker-y5t1qw2u', purging\n",
      "2022-06-10 00:09:23,134 - distributed.diskutils - INFO - Found stale lock file and directory '/home/lapbeer/Documents/epf/intro_ML/Teads-Kaggle-Competition/dask-worker-space/worker-0q2jp45l', purging\n",
      "2022-06-10 00:09:23,134 - distributed.diskutils - INFO - Found stale lock file and directory '/home/lapbeer/Documents/epf/intro_ML/Teads-Kaggle-Competition/dask-worker-space/worker-53q0sg7u', purging\n",
      "2022-06-10 00:09:23,134 - distributed.diskutils - INFO - Found stale lock file and directory '/home/lapbeer/Documents/epf/intro_ML/Teads-Kaggle-Competition/dask-worker-space/worker-dkvnxdcd', purging\n",
      "2022-06-10 00:09:23,135 - distributed.diskutils - INFO - Found stale lock file and directory '/home/lapbeer/Documents/epf/intro_ML/Teads-Kaggle-Competition/dask-worker-space/worker-w6s96vac', purging\n"
     ]
    },
    {
     "data": {
      "text/html": [
       "<div>\n",
       "    <div style=\"width: 24px; height: 24px; background-color: #e1e1e1; border: 3px solid #9D9D9D; border-radius: 5px; position: absolute;\"> </div>\n",
       "    <div style=\"margin-left: 48px;\">\n",
       "        <h3 style=\"margin-bottom: 0px;\">Client</h3>\n",
       "        <p style=\"color: #9D9D9D; margin-bottom: 0px;\">Client-d1ca8c8f-e840-11ec-8be8-f79f4249044d</p>\n",
       "        <table style=\"width: 100%; text-align: left;\">\n",
       "\n",
       "        <tr>\n",
       "        \n",
       "            <td style=\"text-align: left;\"><strong>Connection method:</strong> Cluster object</td>\n",
       "            <td style=\"text-align: left;\"><strong>Cluster type:</strong> distributed.LocalCluster</td>\n",
       "        \n",
       "        </tr>\n",
       "\n",
       "        \n",
       "            <tr>\n",
       "                <td style=\"text-align: left;\">\n",
       "                    <strong>Dashboard: </strong> <a href=\"http://127.0.0.1:8787/status\" target=\"_blank\">http://127.0.0.1:8787/status</a>\n",
       "                </td>\n",
       "                <td style=\"text-align: left;\"></td>\n",
       "            </tr>\n",
       "        \n",
       "\n",
       "        </table>\n",
       "\n",
       "        \n",
       "            <details>\n",
       "            <summary style=\"margin-bottom: 20px;\"><h3 style=\"display: inline;\">Cluster Info</h3></summary>\n",
       "            <div class=\"jp-RenderedHTMLCommon jp-RenderedHTML jp-mod-trusted jp-OutputArea-output\">\n",
       "    <div style=\"width: 24px; height: 24px; background-color: #e1e1e1; border: 3px solid #9D9D9D; border-radius: 5px; position: absolute;\">\n",
       "    </div>\n",
       "    <div style=\"margin-left: 48px;\">\n",
       "        <h3 style=\"margin-bottom: 0px; margin-top: 0px;\">LocalCluster</h3>\n",
       "        <p style=\"color: #9D9D9D; margin-bottom: 0px;\">22526930</p>\n",
       "        <table style=\"width: 100%; text-align: left;\">\n",
       "            <tr>\n",
       "                <td style=\"text-align: left;\">\n",
       "                    <strong>Dashboard:</strong> <a href=\"http://127.0.0.1:8787/status\" target=\"_blank\">http://127.0.0.1:8787/status</a>\n",
       "                </td>\n",
       "                <td style=\"text-align: left;\">\n",
       "                    <strong>Workers:</strong> 6\n",
       "                </td>\n",
       "            </tr>\n",
       "            <tr>\n",
       "                <td style=\"text-align: left;\">\n",
       "                    <strong>Total threads:</strong> 12\n",
       "                </td>\n",
       "                <td style=\"text-align: left;\">\n",
       "                    <strong>Total memory:</strong> 15.43 GiB\n",
       "                </td>\n",
       "            </tr>\n",
       "            \n",
       "            <tr>\n",
       "    <td style=\"text-align: left;\"><strong>Status:</strong> running</td>\n",
       "    <td style=\"text-align: left;\"><strong>Using processes:</strong> True</td>\n",
       "</tr>\n",
       "\n",
       "            \n",
       "        </table>\n",
       "\n",
       "        <details>\n",
       "            <summary style=\"margin-bottom: 20px;\">\n",
       "                <h3 style=\"display: inline;\">Scheduler Info</h3>\n",
       "            </summary>\n",
       "\n",
       "            <div style=\"\">\n",
       "    <div>\n",
       "        <div style=\"width: 24px; height: 24px; background-color: #FFF7E5; border: 3px solid #FF6132; border-radius: 5px; position: absolute;\"> </div>\n",
       "        <div style=\"margin-left: 48px;\">\n",
       "            <h3 style=\"margin-bottom: 0px;\">Scheduler</h3>\n",
       "            <p style=\"color: #9D9D9D; margin-bottom: 0px;\">Scheduler-95969fb5-0209-46fe-9110-2caf0ab282cf</p>\n",
       "            <table style=\"width: 100%; text-align: left;\">\n",
       "                <tr>\n",
       "                    <td style=\"text-align: left;\">\n",
       "                        <strong>Comm:</strong> tcp://127.0.0.1:33021\n",
       "                    </td>\n",
       "                    <td style=\"text-align: left;\">\n",
       "                        <strong>Workers:</strong> 6\n",
       "                    </td>\n",
       "                </tr>\n",
       "                <tr>\n",
       "                    <td style=\"text-align: left;\">\n",
       "                        <strong>Dashboard:</strong> <a href=\"http://127.0.0.1:8787/status\" target=\"_blank\">http://127.0.0.1:8787/status</a>\n",
       "                    </td>\n",
       "                    <td style=\"text-align: left;\">\n",
       "                        <strong>Total threads:</strong> 12\n",
       "                    </td>\n",
       "                </tr>\n",
       "                <tr>\n",
       "                    <td style=\"text-align: left;\">\n",
       "                        <strong>Started:</strong> Just now\n",
       "                    </td>\n",
       "                    <td style=\"text-align: left;\">\n",
       "                        <strong>Total memory:</strong> 15.43 GiB\n",
       "                    </td>\n",
       "                </tr>\n",
       "            </table>\n",
       "        </div>\n",
       "    </div>\n",
       "\n",
       "    <details style=\"margin-left: 48px;\">\n",
       "        <summary style=\"margin-bottom: 20px;\">\n",
       "            <h3 style=\"display: inline;\">Workers</h3>\n",
       "        </summary>\n",
       "\n",
       "        \n",
       "        <div style=\"margin-bottom: 20px;\">\n",
       "            <div style=\"width: 24px; height: 24px; background-color: #DBF5FF; border: 3px solid #4CC9FF; border-radius: 5px; position: absolute;\"> </div>\n",
       "            <div style=\"margin-left: 48px;\">\n",
       "            <details>\n",
       "                <summary>\n",
       "                    <h4 style=\"margin-bottom: 0px; display: inline;\">Worker: 0</h4>\n",
       "                </summary>\n",
       "                <table style=\"width: 100%; text-align: left;\">\n",
       "                    <tr>\n",
       "                        <td style=\"text-align: left;\">\n",
       "                            <strong>Comm: </strong> tcp://127.0.0.1:40083\n",
       "                        </td>\n",
       "                        <td style=\"text-align: left;\">\n",
       "                            <strong>Total threads: </strong> 2\n",
       "                        </td>\n",
       "                    </tr>\n",
       "                    <tr>\n",
       "                        <td style=\"text-align: left;\">\n",
       "                            <strong>Dashboard: </strong> <a href=\"http://127.0.0.1:42185/status\" target=\"_blank\">http://127.0.0.1:42185/status</a>\n",
       "                        </td>\n",
       "                        <td style=\"text-align: left;\">\n",
       "                            <strong>Memory: </strong> 2.57 GiB\n",
       "                        </td>\n",
       "                    </tr>\n",
       "                    <tr>\n",
       "                        <td style=\"text-align: left;\">\n",
       "                            <strong>Nanny: </strong> tcp://127.0.0.1:37725\n",
       "                        </td>\n",
       "                        <td style=\"text-align: left;\"></td>\n",
       "                    </tr>\n",
       "                    <tr>\n",
       "                        <td colspan=\"2\" style=\"text-align: left;\">\n",
       "                            <strong>Local directory: </strong> /home/lapbeer/Documents/epf/intro_ML/Teads-Kaggle-Competition/dask-worker-space/worker-3ukcsthb\n",
       "                        </td>\n",
       "                    </tr>\n",
       "\n",
       "                    \n",
       "\n",
       "                    \n",
       "\n",
       "                </table>\n",
       "            </details>\n",
       "            </div>\n",
       "        </div>\n",
       "        \n",
       "        <div style=\"margin-bottom: 20px;\">\n",
       "            <div style=\"width: 24px; height: 24px; background-color: #DBF5FF; border: 3px solid #4CC9FF; border-radius: 5px; position: absolute;\"> </div>\n",
       "            <div style=\"margin-left: 48px;\">\n",
       "            <details>\n",
       "                <summary>\n",
       "                    <h4 style=\"margin-bottom: 0px; display: inline;\">Worker: 1</h4>\n",
       "                </summary>\n",
       "                <table style=\"width: 100%; text-align: left;\">\n",
       "                    <tr>\n",
       "                        <td style=\"text-align: left;\">\n",
       "                            <strong>Comm: </strong> tcp://127.0.0.1:33573\n",
       "                        </td>\n",
       "                        <td style=\"text-align: left;\">\n",
       "                            <strong>Total threads: </strong> 2\n",
       "                        </td>\n",
       "                    </tr>\n",
       "                    <tr>\n",
       "                        <td style=\"text-align: left;\">\n",
       "                            <strong>Dashboard: </strong> <a href=\"http://127.0.0.1:35499/status\" target=\"_blank\">http://127.0.0.1:35499/status</a>\n",
       "                        </td>\n",
       "                        <td style=\"text-align: left;\">\n",
       "                            <strong>Memory: </strong> 2.57 GiB\n",
       "                        </td>\n",
       "                    </tr>\n",
       "                    <tr>\n",
       "                        <td style=\"text-align: left;\">\n",
       "                            <strong>Nanny: </strong> tcp://127.0.0.1:46285\n",
       "                        </td>\n",
       "                        <td style=\"text-align: left;\"></td>\n",
       "                    </tr>\n",
       "                    <tr>\n",
       "                        <td colspan=\"2\" style=\"text-align: left;\">\n",
       "                            <strong>Local directory: </strong> /home/lapbeer/Documents/epf/intro_ML/Teads-Kaggle-Competition/dask-worker-space/worker-9ivhzgo4\n",
       "                        </td>\n",
       "                    </tr>\n",
       "\n",
       "                    \n",
       "\n",
       "                    \n",
       "\n",
       "                </table>\n",
       "            </details>\n",
       "            </div>\n",
       "        </div>\n",
       "        \n",
       "        <div style=\"margin-bottom: 20px;\">\n",
       "            <div style=\"width: 24px; height: 24px; background-color: #DBF5FF; border: 3px solid #4CC9FF; border-radius: 5px; position: absolute;\"> </div>\n",
       "            <div style=\"margin-left: 48px;\">\n",
       "            <details>\n",
       "                <summary>\n",
       "                    <h4 style=\"margin-bottom: 0px; display: inline;\">Worker: 2</h4>\n",
       "                </summary>\n",
       "                <table style=\"width: 100%; text-align: left;\">\n",
       "                    <tr>\n",
       "                        <td style=\"text-align: left;\">\n",
       "                            <strong>Comm: </strong> tcp://127.0.0.1:41485\n",
       "                        </td>\n",
       "                        <td style=\"text-align: left;\">\n",
       "                            <strong>Total threads: </strong> 2\n",
       "                        </td>\n",
       "                    </tr>\n",
       "                    <tr>\n",
       "                        <td style=\"text-align: left;\">\n",
       "                            <strong>Dashboard: </strong> <a href=\"http://127.0.0.1:36941/status\" target=\"_blank\">http://127.0.0.1:36941/status</a>\n",
       "                        </td>\n",
       "                        <td style=\"text-align: left;\">\n",
       "                            <strong>Memory: </strong> 2.57 GiB\n",
       "                        </td>\n",
       "                    </tr>\n",
       "                    <tr>\n",
       "                        <td style=\"text-align: left;\">\n",
       "                            <strong>Nanny: </strong> tcp://127.0.0.1:41189\n",
       "                        </td>\n",
       "                        <td style=\"text-align: left;\"></td>\n",
       "                    </tr>\n",
       "                    <tr>\n",
       "                        <td colspan=\"2\" style=\"text-align: left;\">\n",
       "                            <strong>Local directory: </strong> /home/lapbeer/Documents/epf/intro_ML/Teads-Kaggle-Competition/dask-worker-space/worker-xuk2z7gd\n",
       "                        </td>\n",
       "                    </tr>\n",
       "\n",
       "                    \n",
       "\n",
       "                    \n",
       "\n",
       "                </table>\n",
       "            </details>\n",
       "            </div>\n",
       "        </div>\n",
       "        \n",
       "        <div style=\"margin-bottom: 20px;\">\n",
       "            <div style=\"width: 24px; height: 24px; background-color: #DBF5FF; border: 3px solid #4CC9FF; border-radius: 5px; position: absolute;\"> </div>\n",
       "            <div style=\"margin-left: 48px;\">\n",
       "            <details>\n",
       "                <summary>\n",
       "                    <h4 style=\"margin-bottom: 0px; display: inline;\">Worker: 3</h4>\n",
       "                </summary>\n",
       "                <table style=\"width: 100%; text-align: left;\">\n",
       "                    <tr>\n",
       "                        <td style=\"text-align: left;\">\n",
       "                            <strong>Comm: </strong> tcp://127.0.0.1:38323\n",
       "                        </td>\n",
       "                        <td style=\"text-align: left;\">\n",
       "                            <strong>Total threads: </strong> 2\n",
       "                        </td>\n",
       "                    </tr>\n",
       "                    <tr>\n",
       "                        <td style=\"text-align: left;\">\n",
       "                            <strong>Dashboard: </strong> <a href=\"http://127.0.0.1:41885/status\" target=\"_blank\">http://127.0.0.1:41885/status</a>\n",
       "                        </td>\n",
       "                        <td style=\"text-align: left;\">\n",
       "                            <strong>Memory: </strong> 2.57 GiB\n",
       "                        </td>\n",
       "                    </tr>\n",
       "                    <tr>\n",
       "                        <td style=\"text-align: left;\">\n",
       "                            <strong>Nanny: </strong> tcp://127.0.0.1:42517\n",
       "                        </td>\n",
       "                        <td style=\"text-align: left;\"></td>\n",
       "                    </tr>\n",
       "                    <tr>\n",
       "                        <td colspan=\"2\" style=\"text-align: left;\">\n",
       "                            <strong>Local directory: </strong> /home/lapbeer/Documents/epf/intro_ML/Teads-Kaggle-Competition/dask-worker-space/worker-qbrj4rio\n",
       "                        </td>\n",
       "                    </tr>\n",
       "\n",
       "                    \n",
       "\n",
       "                    \n",
       "\n",
       "                </table>\n",
       "            </details>\n",
       "            </div>\n",
       "        </div>\n",
       "        \n",
       "        <div style=\"margin-bottom: 20px;\">\n",
       "            <div style=\"width: 24px; height: 24px; background-color: #DBF5FF; border: 3px solid #4CC9FF; border-radius: 5px; position: absolute;\"> </div>\n",
       "            <div style=\"margin-left: 48px;\">\n",
       "            <details>\n",
       "                <summary>\n",
       "                    <h4 style=\"margin-bottom: 0px; display: inline;\">Worker: 4</h4>\n",
       "                </summary>\n",
       "                <table style=\"width: 100%; text-align: left;\">\n",
       "                    <tr>\n",
       "                        <td style=\"text-align: left;\">\n",
       "                            <strong>Comm: </strong> tcp://127.0.0.1:33077\n",
       "                        </td>\n",
       "                        <td style=\"text-align: left;\">\n",
       "                            <strong>Total threads: </strong> 2\n",
       "                        </td>\n",
       "                    </tr>\n",
       "                    <tr>\n",
       "                        <td style=\"text-align: left;\">\n",
       "                            <strong>Dashboard: </strong> <a href=\"http://127.0.0.1:34017/status\" target=\"_blank\">http://127.0.0.1:34017/status</a>\n",
       "                        </td>\n",
       "                        <td style=\"text-align: left;\">\n",
       "                            <strong>Memory: </strong> 2.57 GiB\n",
       "                        </td>\n",
       "                    </tr>\n",
       "                    <tr>\n",
       "                        <td style=\"text-align: left;\">\n",
       "                            <strong>Nanny: </strong> tcp://127.0.0.1:37555\n",
       "                        </td>\n",
       "                        <td style=\"text-align: left;\"></td>\n",
       "                    </tr>\n",
       "                    <tr>\n",
       "                        <td colspan=\"2\" style=\"text-align: left;\">\n",
       "                            <strong>Local directory: </strong> /home/lapbeer/Documents/epf/intro_ML/Teads-Kaggle-Competition/dask-worker-space/worker-lsf_fb9j\n",
       "                        </td>\n",
       "                    </tr>\n",
       "\n",
       "                    \n",
       "\n",
       "                    \n",
       "\n",
       "                </table>\n",
       "            </details>\n",
       "            </div>\n",
       "        </div>\n",
       "        \n",
       "        <div style=\"margin-bottom: 20px;\">\n",
       "            <div style=\"width: 24px; height: 24px; background-color: #DBF5FF; border: 3px solid #4CC9FF; border-radius: 5px; position: absolute;\"> </div>\n",
       "            <div style=\"margin-left: 48px;\">\n",
       "            <details>\n",
       "                <summary>\n",
       "                    <h4 style=\"margin-bottom: 0px; display: inline;\">Worker: 5</h4>\n",
       "                </summary>\n",
       "                <table style=\"width: 100%; text-align: left;\">\n",
       "                    <tr>\n",
       "                        <td style=\"text-align: left;\">\n",
       "                            <strong>Comm: </strong> tcp://127.0.0.1:41149\n",
       "                        </td>\n",
       "                        <td style=\"text-align: left;\">\n",
       "                            <strong>Total threads: </strong> 2\n",
       "                        </td>\n",
       "                    </tr>\n",
       "                    <tr>\n",
       "                        <td style=\"text-align: left;\">\n",
       "                            <strong>Dashboard: </strong> <a href=\"http://127.0.0.1:34595/status\" target=\"_blank\">http://127.0.0.1:34595/status</a>\n",
       "                        </td>\n",
       "                        <td style=\"text-align: left;\">\n",
       "                            <strong>Memory: </strong> 2.57 GiB\n",
       "                        </td>\n",
       "                    </tr>\n",
       "                    <tr>\n",
       "                        <td style=\"text-align: left;\">\n",
       "                            <strong>Nanny: </strong> tcp://127.0.0.1:33383\n",
       "                        </td>\n",
       "                        <td style=\"text-align: left;\"></td>\n",
       "                    </tr>\n",
       "                    <tr>\n",
       "                        <td colspan=\"2\" style=\"text-align: left;\">\n",
       "                            <strong>Local directory: </strong> /home/lapbeer/Documents/epf/intro_ML/Teads-Kaggle-Competition/dask-worker-space/worker-ikfi_tmu\n",
       "                        </td>\n",
       "                    </tr>\n",
       "\n",
       "                    \n",
       "\n",
       "                    \n",
       "\n",
       "                </table>\n",
       "            </details>\n",
       "            </div>\n",
       "        </div>\n",
       "        \n",
       "\n",
       "    </details>\n",
       "</div>\n",
       "\n",
       "        </details>\n",
       "    </div>\n",
       "</div>\n",
       "            </details>\n",
       "        \n",
       "\n",
       "    </div>\n",
       "</div>"
      ],
      "text/plain": [
       "<Client: 'tcp://127.0.0.1:33021' processes=6 threads=12, memory=15.43 GiB>"
      ]
     },
     "execution_count": 56,
     "metadata": {},
     "output_type": "execute_result"
    }
   ],
   "source": [
    "from dask.distributed import Client, LocalCluster \n",
    "# local dask cluster \n",
    "cluster = LocalCluster(n_workers=6) \n",
    "client = Client(cluster) \n",
    "client"
   ]
  },
  {
   "cell_type": "code",
   "execution_count": 57,
   "metadata": {},
   "outputs": [],
   "source": [
    "dask_df = dd.from_pandas(data_train_clean, npartitions=20)"
   ]
  },
  {
   "cell_type": "code",
   "execution_count": 58,
   "metadata": {},
   "outputs": [
    {
     "data": {
      "text/html": [
       "<div>\n",
       "<style scoped>\n",
       "    .dataframe tbody tr th:only-of-type {\n",
       "        vertical-align: middle;\n",
       "    }\n",
       "\n",
       "    .dataframe tbody tr th {\n",
       "        vertical-align: top;\n",
       "    }\n",
       "\n",
       "    .dataframe thead th {\n",
       "        text-align: right;\n",
       "    }\n",
       "</style>\n",
       "<table border=\"1\" class=\"dataframe\">\n",
       "  <thead>\n",
       "    <tr style=\"text-align: right;\">\n",
       "      <th></th>\n",
       "      <th>placementId</th>\n",
       "      <th>websiteId</th>\n",
       "      <th>hashedRefererDeepThree</th>\n",
       "      <th>country</th>\n",
       "      <th>browser</th>\n",
       "      <th>browserVersion</th>\n",
       "      <th>integrationType</th>\n",
       "      <th>isSold</th>\n",
       "      <th>yearXcountry</th>\n",
       "      <th>monthXcountry</th>\n",
       "      <th>...</th>\n",
       "      <th>KaiOS</th>\n",
       "      <th>Linux</th>\n",
       "      <th>MRE</th>\n",
       "      <th>Mac OS</th>\n",
       "      <th>OS X</th>\n",
       "      <th>Tizen</th>\n",
       "      <th>Windows</th>\n",
       "      <th>iOS</th>\n",
       "      <th>macOS</th>\n",
       "      <th>unknown</th>\n",
       "    </tr>\n",
       "  </thead>\n",
       "  <tbody>\n",
       "    <tr>\n",
       "      <th>0</th>\n",
       "      <td>0.389108</td>\n",
       "      <td>0.389108</td>\n",
       "      <td>0.500000</td>\n",
       "      <td>0.538145</td>\n",
       "      <td>0.397601</td>\n",
       "      <td>0.454817</td>\n",
       "      <td>2</td>\n",
       "      <td>False</td>\n",
       "      <td>0.538145</td>\n",
       "      <td>0.542201</td>\n",
       "      <td>...</td>\n",
       "      <td>0</td>\n",
       "      <td>0</td>\n",
       "      <td>0</td>\n",
       "      <td>0</td>\n",
       "      <td>0</td>\n",
       "      <td>0</td>\n",
       "      <td>1</td>\n",
       "      <td>0</td>\n",
       "      <td>0</td>\n",
       "      <td>0</td>\n",
       "    </tr>\n",
       "    <tr>\n",
       "      <th>1</th>\n",
       "      <td>0.758621</td>\n",
       "      <td>0.758621</td>\n",
       "      <td>0.700000</td>\n",
       "      <td>0.638926</td>\n",
       "      <td>0.593297</td>\n",
       "      <td>0.624459</td>\n",
       "      <td>1</td>\n",
       "      <td>False</td>\n",
       "      <td>0.638926</td>\n",
       "      <td>0.645408</td>\n",
       "      <td>...</td>\n",
       "      <td>0</td>\n",
       "      <td>0</td>\n",
       "      <td>0</td>\n",
       "      <td>0</td>\n",
       "      <td>0</td>\n",
       "      <td>0</td>\n",
       "      <td>0</td>\n",
       "      <td>0</td>\n",
       "      <td>0</td>\n",
       "      <td>0</td>\n",
       "    </tr>\n",
       "    <tr>\n",
       "      <th>2</th>\n",
       "      <td>0.608150</td>\n",
       "      <td>0.649976</td>\n",
       "      <td>0.649952</td>\n",
       "      <td>0.486247</td>\n",
       "      <td>0.593297</td>\n",
       "      <td>0.638249</td>\n",
       "      <td>2</td>\n",
       "      <td>True</td>\n",
       "      <td>0.486247</td>\n",
       "      <td>0.440361</td>\n",
       "      <td>...</td>\n",
       "      <td>0</td>\n",
       "      <td>0</td>\n",
       "      <td>0</td>\n",
       "      <td>0</td>\n",
       "      <td>0</td>\n",
       "      <td>0</td>\n",
       "      <td>0</td>\n",
       "      <td>0</td>\n",
       "      <td>0</td>\n",
       "      <td>0</td>\n",
       "    </tr>\n",
       "    <tr>\n",
       "      <th>3</th>\n",
       "      <td>0.456140</td>\n",
       "      <td>0.456140</td>\n",
       "      <td>0.538461</td>\n",
       "      <td>0.496360</td>\n",
       "      <td>0.516606</td>\n",
       "      <td>0.454817</td>\n",
       "      <td>1</td>\n",
       "      <td>True</td>\n",
       "      <td>0.496360</td>\n",
       "      <td>0.513021</td>\n",
       "      <td>...</td>\n",
       "      <td>0</td>\n",
       "      <td>0</td>\n",
       "      <td>0</td>\n",
       "      <td>0</td>\n",
       "      <td>0</td>\n",
       "      <td>0</td>\n",
       "      <td>0</td>\n",
       "      <td>0</td>\n",
       "      <td>0</td>\n",
       "      <td>0</td>\n",
       "    </tr>\n",
       "    <tr>\n",
       "      <th>4</th>\n",
       "      <td>0.118519</td>\n",
       "      <td>0.118519</td>\n",
       "      <td>0.363077</td>\n",
       "      <td>0.435467</td>\n",
       "      <td>0.593297</td>\n",
       "      <td>0.624459</td>\n",
       "      <td>1</td>\n",
       "      <td>False</td>\n",
       "      <td>0.435467</td>\n",
       "      <td>0.442099</td>\n",
       "      <td>...</td>\n",
       "      <td>0</td>\n",
       "      <td>0</td>\n",
       "      <td>0</td>\n",
       "      <td>0</td>\n",
       "      <td>0</td>\n",
       "      <td>0</td>\n",
       "      <td>0</td>\n",
       "      <td>0</td>\n",
       "      <td>0</td>\n",
       "      <td>0</td>\n",
       "    </tr>\n",
       "  </tbody>\n",
       "</table>\n",
       "<p>5 rows × 51 columns</p>\n",
       "</div>"
      ],
      "text/plain": [
       "   placementId  websiteId  hashedRefererDeepThree   country   browser  \\\n",
       "0     0.389108   0.389108                0.500000  0.538145  0.397601   \n",
       "1     0.758621   0.758621                0.700000  0.638926  0.593297   \n",
       "2     0.608150   0.649976                0.649952  0.486247  0.593297   \n",
       "3     0.456140   0.456140                0.538461  0.496360  0.516606   \n",
       "4     0.118519   0.118519                0.363077  0.435467  0.593297   \n",
       "\n",
       "   browserVersion  integrationType  isSold  yearXcountry  monthXcountry  ...  \\\n",
       "0        0.454817                2   False      0.538145       0.542201  ...   \n",
       "1        0.624459                1   False      0.638926       0.645408  ...   \n",
       "2        0.638249                2    True      0.486247       0.440361  ...   \n",
       "3        0.454817                1    True      0.496360       0.513021  ...   \n",
       "4        0.624459                1   False      0.435467       0.442099  ...   \n",
       "\n",
       "   KaiOS  Linux  MRE  Mac OS  OS X  Tizen  Windows  iOS  macOS  unknown  \n",
       "0      0      0    0       0     0      0        1    0      0        0  \n",
       "1      0      0    0       0     0      0        0    0      0        0  \n",
       "2      0      0    0       0     0      0        0    0      0        0  \n",
       "3      0      0    0       0     0      0        0    0      0        0  \n",
       "4      0      0    0       0     0      0        0    0      0        0  \n",
       "\n",
       "[5 rows x 51 columns]"
      ]
     },
     "execution_count": 58,
     "metadata": {},
     "output_type": "execute_result"
    }
   ],
   "source": [
    "dask_df.head()"
   ]
  },
  {
   "cell_type": "code",
   "execution_count": 59,
   "metadata": {},
   "outputs": [],
   "source": [
    "from dask_ml.model_selection import train_test_split \n",
    "# Create the train-test split \n",
    "X = dask_df.drop(columns=[\"isSold\"]).to_dask_array(lengths=True)\n",
    "y=dask_df[\"isSold\"].to_dask_array(lengths=True)\n",
    "X_train, X_test, y_train, y_test = train_test_split(\n",
    "    X, y, test_size=0.2, random_state=2\n",
    ")"
   ]
  },
  {
   "cell_type": "code",
   "execution_count": null,
   "metadata": {},
   "outputs": [],
   "source": [
    "from dask_ml.xgboost import XGBClassifier\n",
    "\n",
    "model = XGBClassifier(\n",
    "    objective=\"binary:logistic\",\n",
    "    max_depth=6,\n",
    "    nthread=5,\n",
    "    reg_lambda=20,\n",
    "    sketch_eps=0.001,\n",
    "    colsample_bytree=0.5,\n",
    "    learning_rate=0.3,\n",
    "    alpha=10,\n",
    "    n_estimators=120,\n",
    ")\n",
    "\n",
    "# Create the XGBoost DMatrices \n",
    "#dtrain = xgb.dask.DaskDMatrix(client, X_train, y_train) \n",
    "#dtest = xgb.dask.DaskDMatrix(client, X_test, y_test) \n",
    "# train the model \n",
    "model.fit(X_train, y_train)"
   ]
  },
  {
   "cell_type": "code",
   "execution_count": 61,
   "metadata": {},
   "outputs": [],
   "source": [
    "y_pred_dask = model.predict(X_test)\n"
   ]
  },
  {
   "cell_type": "code",
   "execution_count": null,
   "metadata": {},
   "outputs": [],
   "source": [
    "y_pred_computed = y_pred_dask.compute()\n",
    "y_test_computed = y_test.compute()\n",
    "\n",
    "y_pred_training = model.predict(X_train)\n",
    "y_pred_computed_training = y_pred_training.compute()\n",
    "y_train_computed = y_train.compute()\n"
   ]
  },
  {
   "cell_type": "code",
   "execution_count": 63,
   "metadata": {},
   "outputs": [
    {
     "data": {
      "text/plain": [
       "(0.7746131575741049, 0.7783181714358872)"
      ]
     },
     "execution_count": 63,
     "metadata": {},
     "output_type": "execute_result"
    }
   ],
   "source": [
    "f1_score(y_test_computed,y_pred_computed),f1_score(y_train_computed,y_pred_computed_training)"
   ]
  }
 ],
 "metadata": {
  "interpreter": {
   "hash": "916dbcbb3f70747c44a77c7bcd40155683ae19c65e1c03b4aa3499c5328201f1"
  },
  "kernelspec": {
   "display_name": "Python 3.8.10 64-bit",
   "language": "python",
   "name": "python3"
  },
  "language_info": {
   "codemirror_mode": {
    "name": "ipython",
    "version": 3
   },
   "file_extension": ".py",
   "mimetype": "text/x-python",
   "name": "python",
   "nbconvert_exporter": "python",
   "pygments_lexer": "ipython3",
   "version": "3.8.10"
  },
  "orig_nbformat": 4
 },
 "nbformat": 4,
 "nbformat_minor": 2
}
